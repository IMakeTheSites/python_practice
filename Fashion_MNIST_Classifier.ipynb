{
  "nbformat": 4,
  "nbformat_minor": 0,
  "metadata": {
    "colab": {
      "provenance": [],
      "authorship_tag": "ABX9TyOKSJ0pAgO3iY47j9mdYZG3",
      "include_colab_link": true
    },
    "kernelspec": {
      "name": "python3",
      "display_name": "Python 3"
    },
    "language_info": {
      "name": "python"
    }
  },
  "cells": [
    {
      "cell_type": "markdown",
      "metadata": {
        "id": "view-in-github",
        "colab_type": "text"
      },
      "source": [
        "<a href=\"https://colab.research.google.com/github/IMakeTheSites/python_practice/blob/main/Fashion_MNIST_Classifier.ipynb\" target=\"_parent\"><img src=\"https://colab.research.google.com/assets/colab-badge.svg\" alt=\"Open In Colab\"/></a>"
      ]
    },
    {
      "cell_type": "markdown",
      "source": [
        "# **Installs and Imports**"
      ],
      "metadata": {
        "id": "vx3z0puntkMP"
      }
    },
    {
      "cell_type": "code",
      "execution_count": 1,
      "metadata": {
        "colab": {
          "base_uri": "https://localhost:8080/"
        },
        "id": "9f56wGCwtfFp",
        "outputId": "a5127def-e3e8-4bc7-f772-8d7ada8af435"
      },
      "outputs": [
        {
          "output_type": "stream",
          "name": "stdout",
          "text": [
            "Colab only includes TensorFlow 2.x; %tensorflow_version has no effect.\n"
          ]
        }
      ],
      "source": [
        "# Activate TensorFlow 2.x version in Colab\n",
        "%tensorflow_version 2.x"
      ]
    },
    {
      "cell_type": "code",
      "source": [
        "# Import TensorFlow and tf.keras\n",
        "import tensorflow as tf\n",
        "\n",
        "# Import Numpy & helper libraries\n",
        "import numpy as np\n",
        "import matplotlib.pyplot as plt\n"
      ],
      "metadata": {
        "id": "CQefkKk7to9b"
      },
      "execution_count": 2,
      "outputs": []
    },
    {
      "cell_type": "markdown",
      "source": [
        "# **Data**"
      ],
      "metadata": {
        "id": "EQxHm6qxuMcU"
      }
    },
    {
      "cell_type": "markdown",
      "source": [
        "## **1. Load the Fashion-MNIST data**"
      ],
      "metadata": {
        "id": "H5pBIeIJuSyh"
      }
    },
    {
      "cell_type": "code",
      "source": [
        "# Load the fashion-mnist pre-shuffled train data and test data from tf.keras.datasets\n",
        "(train_images, train_labels), (test_images, test_labels) = tf.keras.datasets.fashion_mnist.load_data()"
      ],
      "metadata": {
        "colab": {
          "base_uri": "https://localhost:8080/"
        },
        "id": "iWNNilYDuLU-",
        "outputId": "b05f7d98-7919-4a31-f036-fec064759631"
      },
      "execution_count": 3,
      "outputs": [
        {
          "output_type": "stream",
          "name": "stdout",
          "text": [
            "Downloading data from https://storage.googleapis.com/tensorflow/tf-keras-datasets/train-labels-idx1-ubyte.gz\n",
            "29515/29515 [==============================] - 0s 0us/step\n",
            "Downloading data from https://storage.googleapis.com/tensorflow/tf-keras-datasets/train-images-idx3-ubyte.gz\n",
            "26421880/26421880 [==============================] - 0s 0us/step\n",
            "Downloading data from https://storage.googleapis.com/tensorflow/tf-keras-datasets/t10k-labels-idx1-ubyte.gz\n",
            "5148/5148 [==============================] - 0s 0us/step\n",
            "Downloading data from https://storage.googleapis.com/tensorflow/tf-keras-datasets/t10k-images-idx3-ubyte.gz\n",
            "4422102/4422102 [==============================] - 0s 0us/step\n"
          ]
        }
      ]
    },
    {
      "cell_type": "markdown",
      "source": [
        "## **2. Explore the Fashion-MNIST dataset**"
      ],
      "metadata": {
        "id": "DuUNgAqru26T"
      }
    },
    {
      "cell_type": "code",
      "source": [
        "#  There are 60000 training examples with images (28 x 28) and corresponding labels\n",
        "print(\"train_images shape:\", train_images.shape, \"train_labels shape:\", train_labels.shape)\n",
        "print(\"test_images shape:\", test_images.shape, \"test_labels shape:\", test_labels.shape)"
      ],
      "metadata": {
        "colab": {
          "base_uri": "https://localhost:8080/"
        },
        "id": "T94CkINKuQBM",
        "outputId": "ba0fc9cc-25bb-46c9-e0f7-e5e42c512aac"
      },
      "execution_count": 4,
      "outputs": [
        {
          "output_type": "stream",
          "name": "stdout",
          "text": [
            "train_images shape: (60000, 28, 28) train_labels shape: (60000,)\n",
            "test_images shape: (10000, 28, 28) test_labels shape: (10000,)\n"
          ]
        }
      ]
    },
    {
      "cell_type": "markdown",
      "source": [
        "## **3. Data preprocessing**"
      ],
      "metadata": {
        "id": "O_qgvl1xvyJy"
      }
    },
    {
      "cell_type": "code",
      "source": [
        "# Convert data to float32 and normalize the input data\n",
        "train_images = train_images.astype('float32') / 255\n",
        "test_images = test_images.astype('float32') / 255"
      ],
      "metadata": {
        "id": "F826p1M0vAOh"
      },
      "execution_count": 5,
      "outputs": []
    },
    {
      "cell_type": "code",
      "source": [
        "# Reshape input data from (28, 28) to (28, 28, 1)\n",
        "train_images = train_images.reshape(train_images.shape[0], 28, 28, 1)\n",
        "test_images = test_images.reshape(test_images.shape[0], 28, 28, 1)"
      ],
      "metadata": {
        "id": "r3WkEGW6wLJu"
      },
      "execution_count": 7,
      "outputs": []
    },
    {
      "cell_type": "code",
      "source": [
        "# Take a look at the dataset shape after reshape\n",
        "print(\"train_images shape:\", train_images.shape, \"train_labels shape:\", train_labels.shape)\n",
        "print(\"test_images shape:\", test_images.shape, \"test_labels shape:\", test_labels.shape)"
      ],
      "metadata": {
        "colab": {
          "base_uri": "https://localhost:8080/"
        },
        "id": "w8JyIBGmwSG2",
        "outputId": "115c7ef1-7dce-4336-ad84-d0023f15309c"
      },
      "execution_count": 8,
      "outputs": [
        {
          "output_type": "stream",
          "name": "stdout",
          "text": [
            "train_images shape: (60000, 28, 28, 1) train_labels shape: (60000,)\n",
            "test_images shape: (10000, 28, 28, 1) test_labels shape: (10000,)\n"
          ]
        }
      ]
    },
    {
      "cell_type": "code",
      "source": [
        "# One-hot encode the labels\n",
        "train_labels = tf.keras.utils.to_categorical(train_labels, 10)\n",
        "test_labels = tf.keras.utils.to_categorical(test_labels, 10)"
      ],
      "metadata": {
        "id": "qX2fmthKzOBi"
      },
      "execution_count": 9,
      "outputs": []
    },
    {
      "cell_type": "markdown",
      "source": [
        "## **Model Architecture**"
      ],
      "metadata": {
        "id": "b5rX2q8QziYw"
      }
    },
    {
      "cell_type": "code",
      "source": [
        "# Define a CNN with keras sequential model\n",
        "def create_model():\n",
        "\n",
        "  # Define the mdoel architecture\n",
        "  model = tf.keras.models.Sequential([\n",
        "      # Must define the input shape in the first layer of the neural network\n",
        "      tf.keras.layers.Conv2D(filters=32, kernel_size=3, padding='same', activation='relu', input_shape=(28,28,1)),\n",
        "      tf.keras.layers.MaxPooling2D(pool_size=2),\n",
        "      tf.keras.layers.Dropout(0.3),\n",
        "\n",
        "      tf.keras.layers.Conv2D(filters=64, kernel_size=3, padding='same', activation='relu'),\n",
        "      tf.keras.layers.MaxPooling2D(pool_size=2),\n",
        "      tf.keras.layers.Dropout(0.3),\n",
        "\n",
        "      tf.keras.layers.Flatten(),\n",
        "      tf.keras.layers.Dense(10, activation='softmax')\n",
        "  ])\n",
        "\n",
        "  # Compile the model\n",
        "  model.compile(loss=tf.keras.losses.categorical_crossentropy,\n",
        "                optimizer=tf.keras.optimizers.Adam(),\n",
        "                metrics=['accuracy'])\n",
        "\n",
        "  return model"
      ],
      "metadata": {
        "id": "i0KA4S8Pzf17"
      },
      "execution_count": 10,
      "outputs": []
    },
    {
      "cell_type": "code",
      "source": [
        "# Create model\n",
        "model = create_model()"
      ],
      "metadata": {
        "id": "g0u3Vgtu1q71"
      },
      "execution_count": 11,
      "outputs": []
    },
    {
      "cell_type": "code",
      "source": [
        "# Inspect model architecture\n",
        "model.summary()"
      ],
      "metadata": {
        "colab": {
          "base_uri": "https://localhost:8080/"
        },
        "id": "cS6J255C1uJF",
        "outputId": "2e086dc7-39c0-4b2e-f9c7-661aeb1dc82b"
      },
      "execution_count": 12,
      "outputs": [
        {
          "output_type": "stream",
          "name": "stdout",
          "text": [
            "Model: \"sequential\"\n",
            "_________________________________________________________________\n",
            " Layer (type)                Output Shape              Param #   \n",
            "=================================================================\n",
            " conv2d (Conv2D)             (None, 28, 28, 32)        320       \n",
            "                                                                 \n",
            " max_pooling2d (MaxPooling2  (None, 14, 14, 32)        0         \n",
            " D)                                                              \n",
            "                                                                 \n",
            " dropout (Dropout)           (None, 14, 14, 32)        0         \n",
            "                                                                 \n",
            " conv2d_1 (Conv2D)           (None, 14, 14, 64)        18496     \n",
            "                                                                 \n",
            " max_pooling2d_1 (MaxPoolin  (None, 7, 7, 64)          0         \n",
            " g2D)                                                            \n",
            "                                                                 \n",
            " dropout_1 (Dropout)         (None, 7, 7, 64)          0         \n",
            "                                                                 \n",
            " flatten (Flatten)           (None, 3136)              0         \n",
            "                                                                 \n",
            " dense (Dense)               (None, 10)                31370     \n",
            "                                                                 \n",
            "=================================================================\n",
            "Total params: 50186 (196.04 KB)\n",
            "Trainable params: 50186 (196.04 KB)\n",
            "Non-trainable params: 0 (0.00 Byte)\n",
            "_________________________________________________________________\n"
          ]
        }
      ]
    },
    {
      "cell_type": "code",
      "source": [
        "%%time\n",
        "model.fit(train_images,\n",
        "          train_labels,\n",
        "          batch_size=64,\n",
        "          epochs=5)"
      ],
      "metadata": {
        "colab": {
          "base_uri": "https://localhost:8080/"
        },
        "id": "RUbo2lwM1yx2",
        "outputId": "976ae051-10e1-48d0-904f-239841ec809a"
      },
      "execution_count": 13,
      "outputs": [
        {
          "output_type": "stream",
          "name": "stdout",
          "text": [
            "Epoch 1/5\n",
            "938/938 [==============================] - 71s 74ms/step - loss: 0.5508 - accuracy: 0.8009\n",
            "Epoch 2/5\n",
            "938/938 [==============================] - 70s 75ms/step - loss: 0.3734 - accuracy: 0.8669\n",
            "Epoch 3/5\n",
            "938/938 [==============================] - 69s 74ms/step - loss: 0.3305 - accuracy: 0.8834\n",
            "Epoch 4/5\n",
            "938/938 [==============================] - 70s 74ms/step - loss: 0.3038 - accuracy: 0.8904\n",
            "Epoch 5/5\n",
            "938/938 [==============================] - 68s 73ms/step - loss: 0.2886 - accuracy: 0.8971\n",
            "CPU times: user 9min 10s, sys: 12.2 s, total: 9min 22s\n",
            "Wall time: 6min 23s\n"
          ]
        },
        {
          "output_type": "execute_result",
          "data": {
            "text/plain": [
              "<keras.src.callbacks.History at 0x7e95446349d0>"
            ]
          },
          "metadata": {},
          "execution_count": 13
        }
      ]
    },
    {
      "cell_type": "code",
      "source": [],
      "metadata": {
        "id": "3z3V_DyQ19fv"
      },
      "execution_count": null,
      "outputs": []
    }
  ]
}