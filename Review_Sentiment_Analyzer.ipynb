{
  "nbformat": 4,
  "nbformat_minor": 0,
  "metadata": {
    "colab": {
      "provenance": [],
      "gpuType": "T4",
      "authorship_tag": "ABX9TyN4ow9N4h9Sqb1ZCMsbP2oU",
      "include_colab_link": true
    },
    "kernelspec": {
      "name": "python3",
      "display_name": "Python 3"
    },
    "language_info": {
      "name": "python"
    },
    "accelerator": "GPU"
  },
  "cells": [
    {
      "cell_type": "markdown",
      "metadata": {
        "id": "view-in-github",
        "colab_type": "text"
      },
      "source": [
        "<a href=\"https://colab.research.google.com/github/IMakeTheSites/transferLearning_tensorFlow/blob/main/Review_Sentiment_Analyzer.ipynb\" target=\"_parent\"><img src=\"https://colab.research.google.com/assets/colab-badge.svg\" alt=\"Open In Colab\"/></a>"
      ]
    },
    {
      "cell_type": "code",
      "execution_count": 2,
      "metadata": {
        "colab": {
          "base_uri": "https://localhost:8080/",
          "height": 35
        },
        "id": "T81EkaV9YFBz",
        "outputId": "497305ed-d4b1-48a7-c7e3-295409a8bafe"
      },
      "outputs": [
        {
          "output_type": "execute_result",
          "data": {
            "text/plain": [
              "'2.15.0'"
            ],
            "application/vnd.google.colaboratory.intrinsic+json": {
              "type": "string"
            }
          },
          "metadata": {},
          "execution_count": 2
        }
      ],
      "source": [
        "import tensorflow as tf\n",
        "tf.__version__"
      ]
    },
    {
      "cell_type": "code",
      "source": [
        "import tensorflow_hub as hub\n",
        "print (\"Hub version: \", hub.__version__)"
      ],
      "metadata": {
        "colab": {
          "base_uri": "https://localhost:8080/"
        },
        "id": "jlEsqx44Zf6W",
        "outputId": "e59f2223-a225-4274-c700-bc0fad05b1b4"
      },
      "execution_count": 5,
      "outputs": [
        {
          "output_type": "stream",
          "name": "stdout",
          "text": [
            "Hub version:  0.16.1\n"
          ]
        }
      ]
    },
    {
      "cell_type": "code",
      "source": [
        "import tensorflow_datasets as tfds\n",
        "tfds.disable_progress_bar()\n",
        "\n",
        "import numpy as np\n",
        "import matplotlib.pyplot as plt\n"
      ],
      "metadata": {
        "id": "lgrbwntfZwOY"
      },
      "execution_count": 9,
      "outputs": []
    },
    {
      "cell_type": "code",
      "source": [
        "# Split the training set into 60% for training and 40% for validation\n",
        "train_data, validation_data, test_data = tfds.load(\n",
        "    name=\"imdb_reviews\",\n",
        "    split=('train[:60%]', 'train[60%:]', 'test'),\n",
        "    as_supervised=True\n",
        ")"
      ],
      "metadata": {
        "colab": {
          "base_uri": "https://localhost:8080/"
        },
        "id": "sYhO-TQRZ9SB",
        "outputId": "3ba3f11b-7d90-4732-d9cd-78d7c6cd741d"
      },
      "execution_count": 10,
      "outputs": [
        {
          "output_type": "stream",
          "name": "stdout",
          "text": [
            "Downloading and preparing dataset 80.23 MiB (download: 80.23 MiB, generated: Unknown size, total: 80.23 MiB) to /root/tensorflow_datasets/imdb_reviews/plain_text/1.0.0...\n",
            "Dataset imdb_reviews downloaded and prepared to /root/tensorflow_datasets/imdb_reviews/plain_text/1.0.0. Subsequent calls will reuse this data.\n"
          ]
        }
      ]
    },
    {
      "cell_type": "code",
      "source": [
        "train_examples_batch, train_labels_batch = next(iter(train_data.batch(5)))\n",
        "train_examples_batch"
      ],
      "metadata": {
        "colab": {
          "base_uri": "https://localhost:8080/"
        },
        "id": "Ul-CCiStaedt",
        "outputId": "233c5375-c94a-437c-d0b1-1dd978d7a8d5"
      },
      "execution_count": 11,
      "outputs": [
        {
          "output_type": "execute_result",
          "data": {
            "text/plain": [
              "<tf.Tensor: shape=(5,), dtype=string, numpy=\n",
              "array([b\"This was an absolutely terrible movie. Don't be lured in by Christopher Walken or Michael Ironside. Both are great actors, but this must simply be their worst role in history. Even their great acting could not redeem this movie's ridiculous storyline. This movie is an early nineties US propaganda piece. The most pathetic scenes were those when the Columbian rebels were making their cases for revolutions. Maria Conchita Alonso appeared phony, and her pseudo-love affair with Walken was nothing but a pathetic emotional plug in a movie that was devoid of any real meaning. I am disappointed that there are movies like this, ruining actor's like Christopher Walken's good name. I could barely sit through it.\",\n",
              "       b'I have been known to fall asleep during films, but this is usually due to a combination of things including, really tired, being warm and comfortable on the sette and having just eaten a lot. However on this occasion I fell asleep because the film was rubbish. The plot development was constant. Constantly slow and boring. Things seemed to happen, but with no explanation of what was causing them or why. I admit, I may have missed part of the film, but i watched the majority of it and everything just seemed to happen of its own accord without any real concern for anything else. I cant recommend this film at all.',\n",
              "       b'Mann photographs the Alberta Rocky Mountains in a superb fashion, and Jimmy Stewart and Walter Brennan give enjoyable performances as they always seem to do. <br /><br />But come on Hollywood - a Mountie telling the people of Dawson City, Yukon to elect themselves a marshal (yes a marshal!) and to enforce the law themselves, then gunfighters battling it out on the streets for control of the town? <br /><br />Nothing even remotely resembling that happened on the Canadian side of the border during the Klondike gold rush. Mr. Mann and company appear to have mistaken Dawson City for Deadwood, the Canadian North for the American Wild West.<br /><br />Canadian viewers be prepared for a Reefer Madness type of enjoyable howl with this ludicrous plot, or, to shake your head in disgust.',\n",
              "       b'This is the kind of film for a snowy Sunday afternoon when the rest of the world can go ahead with its own business as you descend into a big arm-chair and mellow for a couple of hours. Wonderful performances from Cher and Nicolas Cage (as always) gently row the plot along. There are no rapids to cross, no dangerous waters, just a warm and witty paddle through New York life at its best. A family film in every sense and one that deserves the praise it received.',\n",
              "       b'As others have mentioned, all the women that go nude in this film are mostly absolutely gorgeous. The plot very ably shows the hypocrisy of the female libido. When men are around they want to be pursued, but when no \"men\" are around, they become the pursuers of a 14 year old boy. And the boy becomes a man really fast (we should all be so lucky at this age!). He then gets up the courage to pursue his true love.'],\n",
              "      dtype=object)>"
            ]
          },
          "metadata": {},
          "execution_count": 11
        }
      ]
    },
    {
      "cell_type": "code",
      "source": [
        "train_labels_batch"
      ],
      "metadata": {
        "colab": {
          "base_uri": "https://localhost:8080/"
        },
        "id": "xDdCRwyFcr21",
        "outputId": "c0a01d0c-3ed1-413d-8ab2-29c4bda0acb4"
      },
      "execution_count": 12,
      "outputs": [
        {
          "output_type": "execute_result",
          "data": {
            "text/plain": [
              "<tf.Tensor: shape=(5,), dtype=int64, numpy=array([0, 0, 0, 1, 1])>"
            ]
          },
          "metadata": {},
          "execution_count": 12
        }
      ]
    },
    {
      "cell_type": "code",
      "source": [
        "# Embedding layer with TensorFlow Hub pretrained model\n",
        "embedding = \"https://tfhub.dev/google/tf2-preview/gnews-swivel-20dim/1\"\n",
        "hub_layer = hub.KerasLayer(embedding, input_shape=[], dtype=tf.string, trainable=True)\n",
        "hub_layer(train_examples_batch[:5])"
      ],
      "metadata": {
        "colab": {
          "base_uri": "https://localhost:8080/"
        },
        "id": "ff2qaJRxc2oN",
        "outputId": "0967173c-ad6b-454d-df8e-aa8f8811873e"
      },
      "execution_count": 13,
      "outputs": [
        {
          "output_type": "execute_result",
          "data": {
            "text/plain": [
              "<tf.Tensor: shape=(5, 20), dtype=float32, numpy=\n",
              "array([[ 1.7657859 , -3.882232  ,  3.913424  , -1.5557289 , -3.3362343 ,\n",
              "        -1.7357956 , -1.9954445 ,  1.298955  ,  5.081597  , -1.1041285 ,\n",
              "        -2.0503852 , -0.7267516 , -0.6567596 ,  0.24436145, -3.7208388 ,\n",
              "         2.0954835 ,  2.2969332 , -2.0689783 , -2.9489715 , -1.1315986 ],\n",
              "       [ 1.8804485 , -2.5852385 ,  3.4066994 ,  1.0982676 , -4.056685  ,\n",
              "        -4.891284  , -2.7855542 ,  1.3874227 ,  3.8476458 , -0.9256539 ,\n",
              "        -1.896706  ,  1.2113281 ,  0.11474716,  0.76209456, -4.8791065 ,\n",
              "         2.906149  ,  4.7087674 , -2.3652055 , -3.5015903 , -1.6390051 ],\n",
              "       [ 0.71152216, -0.63532174,  1.7385626 , -1.1168287 , -0.54515934,\n",
              "        -1.1808155 ,  0.09504453,  1.4653089 ,  0.66059506,  0.79308075,\n",
              "        -2.2268343 ,  0.07446616, -1.4075902 , -0.706454  , -1.907037  ,\n",
              "         1.4419788 ,  1.9551864 , -0.42660046, -2.8022065 ,  0.43727067],\n",
              "       [ 1.5164999 , -0.7103405 ,  1.8556769 , -1.2033532 , -1.3105817 ,\n",
              "        -0.8829813 , -1.1187646 ,  0.53186005,  1.0793796 , -1.704331  ,\n",
              "        -2.4198956 ,  1.3787876 , -1.5979576 , -0.8075193 , -2.7702348 ,\n",
              "         1.4840026 ,  2.2181199 , -1.175298  , -3.6538322 , -0.4322719 ],\n",
              "       [ 2.2775354 , -2.8597791 ,  1.5962923 , -1.2295572 , -2.915857  ,\n",
              "        -3.4086986 , -1.659005  ,  0.90293777,  2.820842  ,  0.34331924,\n",
              "        -1.2213764 ,  0.8157163 , -1.3391476 ,  0.24255589, -5.090043  ,\n",
              "         2.0221162 ,  2.7441628 , -2.8562222 , -3.235116  , -0.24184115]],\n",
              "      dtype=float32)>"
            ]
          },
          "metadata": {},
          "execution_count": 13
        }
      ]
    },
    {
      "cell_type": "code",
      "source": [
        "model = tf.keras.Sequential()\n",
        "model.add(hub_layer)\n",
        "model.add(tf.keras.layers.Dense(16, activation='relu'))\n",
        "model.add(tf.keras.layers.Dense(1))\n",
        "\n",
        "model.summary()"
      ],
      "metadata": {
        "colab": {
          "base_uri": "https://localhost:8080/"
        },
        "id": "5KaJRNlqdtJ6",
        "outputId": "281fe819-d3c1-447f-8ce8-a07747d17b3c"
      },
      "execution_count": 14,
      "outputs": [
        {
          "output_type": "stream",
          "name": "stdout",
          "text": [
            "Model: \"sequential_1\"\n",
            "_________________________________________________________________\n",
            " Layer (type)                Output Shape              Param #   \n",
            "=================================================================\n",
            " keras_layer_1 (KerasLayer)  (None, 20)                400020    \n",
            "                                                                 \n",
            " dense (Dense)               (None, 16)                336       \n",
            "                                                                 \n",
            " dense_1 (Dense)             (None, 1)                 17        \n",
            "                                                                 \n",
            "=================================================================\n",
            "Total params: 400373 (1.53 MB)\n",
            "Trainable params: 400373 (1.53 MB)\n",
            "Non-trainable params: 0 (0.00 Byte)\n",
            "_________________________________________________________________\n"
          ]
        }
      ]
    },
    {
      "cell_type": "code",
      "source": [
        "model.compile(optimizer='adam',\n",
        "              loss=tf.keras.losses.BinaryCrossentropy(from_logits=True),\n",
        "              metrics=['accuracy'])"
      ],
      "metadata": {
        "id": "KBXaAGwMkV8l"
      },
      "execution_count": 15,
      "outputs": []
    },
    {
      "cell_type": "code",
      "source": [
        "NUM_EPOCHS = 20"
      ],
      "metadata": {
        "id": "2a8T3rdqmNPv"
      },
      "execution_count": 16,
      "outputs": []
    },
    {
      "cell_type": "code",
      "source": [
        "history = model.fit(train_data.shuffle(10000).batch(512),\n",
        "                    epochs=NUM_EPOCHS,\n",
        "                    validation_data=validation_data.batch(512),\n",
        "                    verbose=1)"
      ],
      "metadata": {
        "colab": {
          "base_uri": "https://localhost:8080/"
        },
        "id": "FS_3RpjomQRE",
        "outputId": "dded43ea-4f83-43b3-fff0-d2610cd37c63"
      },
      "execution_count": 17,
      "outputs": [
        {
          "output_type": "stream",
          "name": "stdout",
          "text": [
            "Epoch 1/20\n",
            "30/30 [==============================] - 11s 254ms/step - loss: 0.6633 - accuracy: 0.6029 - val_loss: 0.6289 - val_accuracy: 0.6463\n",
            "Epoch 2/20\n",
            "30/30 [==============================] - 7s 226ms/step - loss: 0.6019 - accuracy: 0.6570 - val_loss: 0.5842 - val_accuracy: 0.6689\n",
            "Epoch 3/20\n",
            "30/30 [==============================] - 5s 172ms/step - loss: 0.5608 - accuracy: 0.6901 - val_loss: 0.5497 - val_accuracy: 0.6963\n",
            "Epoch 4/20\n",
            "30/30 [==============================] - 7s 221ms/step - loss: 0.5245 - accuracy: 0.7223 - val_loss: 0.5190 - val_accuracy: 0.7286\n",
            "Epoch 5/20\n",
            "30/30 [==============================] - 5s 175ms/step - loss: 0.4887 - accuracy: 0.7525 - val_loss: 0.4892 - val_accuracy: 0.7504\n",
            "Epoch 6/20\n",
            "30/30 [==============================] - 6s 186ms/step - loss: 0.4526 - accuracy: 0.7801 - val_loss: 0.4605 - val_accuracy: 0.7656\n",
            "Epoch 7/20\n",
            "30/30 [==============================] - 7s 238ms/step - loss: 0.4178 - accuracy: 0.8017 - val_loss: 0.4321 - val_accuracy: 0.7841\n",
            "Epoch 8/20\n",
            "30/30 [==============================] - 5s 156ms/step - loss: 0.3833 - accuracy: 0.8268 - val_loss: 0.4104 - val_accuracy: 0.7906\n",
            "Epoch 9/20\n",
            "30/30 [==============================] - 5s 156ms/step - loss: 0.3512 - accuracy: 0.8436 - val_loss: 0.3831 - val_accuracy: 0.8204\n",
            "Epoch 10/20\n",
            "30/30 [==============================] - 6s 182ms/step - loss: 0.3218 - accuracy: 0.8615 - val_loss: 0.3643 - val_accuracy: 0.8315\n",
            "Epoch 11/20\n",
            "30/30 [==============================] - 4s 140ms/step - loss: 0.2969 - accuracy: 0.8735 - val_loss: 0.3519 - val_accuracy: 0.8467\n",
            "Epoch 12/20\n",
            "30/30 [==============================] - 6s 201ms/step - loss: 0.2755 - accuracy: 0.8869 - val_loss: 0.3408 - val_accuracy: 0.8529\n",
            "Epoch 13/20\n",
            "30/30 [==============================] - 5s 151ms/step - loss: 0.2551 - accuracy: 0.8957 - val_loss: 0.3282 - val_accuracy: 0.8550\n",
            "Epoch 14/20\n",
            "30/30 [==============================] - 4s 123ms/step - loss: 0.2380 - accuracy: 0.9046 - val_loss: 0.3241 - val_accuracy: 0.8502\n",
            "Epoch 15/20\n",
            "30/30 [==============================] - 7s 218ms/step - loss: 0.2225 - accuracy: 0.9133 - val_loss: 0.3159 - val_accuracy: 0.8634\n",
            "Epoch 16/20\n",
            "30/30 [==============================] - 3s 103ms/step - loss: 0.2078 - accuracy: 0.9202 - val_loss: 0.3104 - val_accuracy: 0.8635\n",
            "Epoch 17/20\n",
            "30/30 [==============================] - 4s 136ms/step - loss: 0.1948 - accuracy: 0.9265 - val_loss: 0.3077 - val_accuracy: 0.8670\n",
            "Epoch 18/20\n",
            "30/30 [==============================] - 3s 100ms/step - loss: 0.1829 - accuracy: 0.9329 - val_loss: 0.3065 - val_accuracy: 0.8647\n",
            "Epoch 19/20\n",
            "30/30 [==============================] - 4s 129ms/step - loss: 0.1726 - accuracy: 0.9360 - val_loss: 0.3046 - val_accuracy: 0.8675\n",
            "Epoch 20/20\n",
            "30/30 [==============================] - 5s 153ms/step - loss: 0.1618 - accuracy: 0.9421 - val_loss: 0.3049 - val_accuracy: 0.8714\n"
          ]
        }
      ]
    },
    {
      "cell_type": "code",
      "source": [
        "# Training curves\n",
        "def display_training_curves(history, title):\n",
        "  acc = history.history['accuracy']\n",
        "  val_acc = history.history['val_accuracy']\n",
        "\n",
        "  loss = history.history['loss']\n",
        "  val_loss = history.history['val_loss']\n",
        "\n",
        "  epochs_range = range(NUM_EPOCHS)\n",
        "\n",
        "  plt.plot(epochs_range, acc, label='Train accuracy')\n",
        "  plt.plot(epochs_range, val_acc, label='Val accuracy')\n",
        "  plt.title(title)\n",
        "  plt.legend(loc='upper left')\n",
        "  plt.figure()\n",
        "\n",
        "  plt.show()"
      ],
      "metadata": {
        "id": "e6pL5PawmgU6"
      },
      "execution_count": 18,
      "outputs": []
    },
    {
      "cell_type": "code",
      "source": [
        "# Display training curves\n",
        "display_training_curves(history, \"Text Classification with TF Hub\")"
      ],
      "metadata": {
        "colab": {
          "base_uri": "https://localhost:8080/",
          "height": 470
        },
        "id": "6vD16xxUn0hH",
        "outputId": "45408057-858a-4cb4-90cd-dca1ca4627a2"
      },
      "execution_count": 19,
      "outputs": [
        {
          "output_type": "display_data",
          "data": {
            "text/plain": [
              "<Figure size 640x480 with 1 Axes>"
            ],
            "image/png": "[encoded data removed]"
          },
          "metadata": {}
        },
        {
          "output_type": "display_data",
          "data": {
            "text/plain": [
              "<Figure size 640x480 with 0 Axes>"
            ]
          },
          "metadata": {}
        }
      ]
    },
    {
      "cell_type": "code",
      "source": [
        "# Evaluate the model\n",
        "results = model.evaluate(test_data.batch(512), verbose=2)\n",
        "\n",
        "for name, value in zip(model.metrics_names, results):\n",
        "  print(\"%s: %.3f\" % (name, value))"
      ],
      "metadata": {
        "colab": {
          "base_uri": "https://localhost:8080/"
        },
        "id": "YGYlAEM6oCC2",
        "outputId": "c7b4d158-de1a-4f40-b6c2-8300ee33fe84"
      },
      "execution_count": 20,
      "outputs": [
        {
          "output_type": "stream",
          "name": "stdout",
          "text": [
            "49/49 - 3s - loss: 0.3172 - accuracy: 0.8619 - 3s/epoch - 59ms/step\n",
            "loss: 0.317\n",
            "accuracy: 0.862\n"
          ]
        }
      ]
    },
    {
      "cell_type": "code",
      "source": [],
      "metadata": {
        "id": "CkSf7XJDobh0"
      },
      "execution_count": null,
      "outputs": []
    }
  ]
}